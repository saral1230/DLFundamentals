{
 "cells": [
  {
   "cell_type": "markdown",
   "id": "cce2807b-7744-4928-b410-b33197ca0974",
   "metadata": {},
   "source": [
    "### Bert embedding\n",
    "- a table lookup process\n",
    "  - word embeddings: 30522*768\n",
    "  - segment embeddings: 2*768\n",
    "  - position embedding: 512*768\n",
    "- post-processing\n",
    "  - layer norm\n",
    "  - dropout"
   ]
  },
  {
   "cell_type": "code",
   "execution_count": 1,
   "id": "a1fc3f03-6992-4927-82dd-b8627a24ffb5",
   "metadata": {},
   "outputs": [],
   "source": [
    "from transformers import BertModel, BertTokenizer\n",
    "model_name = 'bert-base-uncased'\n",
    "\n",
    "tokenizer = BertTokenizer.from_pretrained(model_name)\n",
    "model = BertModel.from_pretrained(model_name)"
   ]
  },
  {
   "cell_type": "code",
   "execution_count": 5,
   "id": "f4fd0d82-ee13-44c0-8ecd-7ff9e5276eb1",
   "metadata": {},
   "outputs": [],
   "source": [
    "test_sentence = 'today is a good day'"
   ]
  },
  {
   "cell_type": "code",
   "execution_count": 15,
   "id": "1f75eda2-3cb7-4a04-b348-c76365b08a43",
   "metadata": {},
   "outputs": [],
   "source": [
    "input = tokenizer(test_sentence, return_tensors='pt')\n",
    "input_ids = input['input_ids']"
   ]
  },
  {
   "cell_type": "code",
   "execution_count": 20,
   "id": "5e455e3f-8777-4cce-831b-98f674fe7191",
   "metadata": {},
   "outputs": [
    {
     "data": {
      "text/plain": [
       "torch.Size([1, 7])"
      ]
     },
     "execution_count": 20,
     "metadata": {},
     "output_type": "execute_result"
    }
   ],
   "source": [
    "input_ids.shape"
   ]
  },
  {
   "cell_type": "code",
   "execution_count": 21,
   "id": "759963d2-f9a2-4dd8-aad7-d77bb199b63e",
   "metadata": {},
   "outputs": [
    {
     "data": {
      "text/plain": [
       "tensor([[[ 1.3630e-02, -2.6490e-02, -2.3503e-02,  ...,  8.6805e-03,\n",
       "           7.1340e-03,  1.5147e-02],\n",
       "         [-6.9300e-02, -1.9083e-02, -5.6926e-02,  ..., -3.6711e-05,\n",
       "          -1.1248e-02, -8.8072e-03],\n",
       "         [-3.6044e-02, -2.4606e-02, -2.5735e-02,  ...,  3.3691e-03,\n",
       "          -1.8300e-03,  2.6855e-02],\n",
       "         ...,\n",
       "         [ 1.1832e-03, -9.3691e-03, -3.8018e-02,  ..., -6.9194e-02,\n",
       "          -8.0286e-02, -8.7258e-02],\n",
       "         [-2.8552e-02,  1.1842e-03, -4.4948e-04,  ...,  5.7283e-03,\n",
       "          -2.7316e-02, -4.4553e-02],\n",
       "         [-1.4521e-02, -9.9615e-03,  6.0263e-03,  ..., -2.5035e-02,\n",
       "           4.6379e-03, -1.5378e-03]]], grad_fn=<EmbeddingBackward0>)"
      ]
     },
     "execution_count": 21,
     "metadata": {},
     "output_type": "execute_result"
    }
   ],
   "source": [
    "word_embed = model.embeddings.word_embeddings(input_ids)\n",
    "word_embed"
   ]
  },
  {
   "cell_type": "code",
   "execution_count": 22,
   "id": "d05e8d5f-a62a-44ed-9856-c51cad70aac7",
   "metadata": {},
   "outputs": [
    {
     "data": {
      "text/plain": [
       "torch.Size([1, 7, 768])"
      ]
     },
     "execution_count": 22,
     "metadata": {},
     "output_type": "execute_result"
    }
   ],
   "source": [
    "word_embed.shape"
   ]
  },
  {
   "cell_type": "code",
   "execution_count": 18,
   "id": "bd1d6d5d-6256-4cb4-a921-d871fd50d20c",
   "metadata": {},
   "outputs": [
    {
     "data": {
      "text/plain": [
       "tensor([[0, 0, 0, 0, 0, 0, 0]])"
      ]
     },
     "execution_count": 18,
     "metadata": {},
     "output_type": "execute_result"
    }
   ],
   "source": [
    "input_type = input['token_type_ids']\n",
    "input_type"
   ]
  },
  {
   "cell_type": "code",
   "execution_count": 24,
   "id": "1d00290f-7f52-4f25-a57e-738e56378826",
   "metadata": {},
   "outputs": [
    {
     "data": {
      "text/plain": [
       "tensor([[[ 0.0004,  0.0110,  0.0037,  ..., -0.0066, -0.0034, -0.0086],\n",
       "         [ 0.0004,  0.0110,  0.0037,  ..., -0.0066, -0.0034, -0.0086],\n",
       "         [ 0.0004,  0.0110,  0.0037,  ..., -0.0066, -0.0034, -0.0086],\n",
       "         ...,\n",
       "         [ 0.0004,  0.0110,  0.0037,  ..., -0.0066, -0.0034, -0.0086],\n",
       "         [ 0.0004,  0.0110,  0.0037,  ..., -0.0066, -0.0034, -0.0086],\n",
       "         [ 0.0004,  0.0110,  0.0037,  ..., -0.0066, -0.0034, -0.0086]]],\n",
       "       grad_fn=<EmbeddingBackward0>)"
      ]
     },
     "execution_count": 24,
     "metadata": {},
     "output_type": "execute_result"
    }
   ],
   "source": [
    "token_type_embed = model.embeddings.token_type_embeddings(input_type)\n",
    "token_type_embed"
   ]
  },
  {
   "cell_type": "code",
   "execution_count": 28,
   "id": "82e27e01-94f6-4ddb-af3f-4453738d1ad2",
   "metadata": {},
   "outputs": [
    {
     "data": {
      "text/plain": [
       "tensor([0, 1, 2, 3, 4, 5, 6])"
      ]
     },
     "execution_count": 28,
     "metadata": {},
     "output_type": "execute_result"
    }
   ],
   "source": [
    "import torch\n",
    "pos_ids = torch.arange(input_ids.shape[1])\n",
    "pos_ids"
   ]
  },
  {
   "cell_type": "code",
   "execution_count": 30,
   "id": "44afb133-7c71-4db8-a0a3-1b14f1d65b7d",
   "metadata": {},
   "outputs": [
    {
     "data": {
      "text/plain": [
       "tensor([[ 1.7505e-02, -2.5631e-02, -3.6642e-02,  ...,  3.3437e-05,\n",
       "          6.8312e-04,  1.5441e-02],\n",
       "        [ 7.7580e-03,  2.2613e-03, -1.9444e-02,  ...,  2.8910e-02,\n",
       "          2.9753e-02, -5.3247e-03],\n",
       "        [-1.1287e-02, -1.9644e-03, -1.1573e-02,  ...,  1.4908e-02,\n",
       "          1.8741e-02, -7.3140e-03],\n",
       "        ...,\n",
       "        [-5.6087e-03, -1.0445e-02, -7.2288e-03,  ...,  2.0837e-02,\n",
       "          3.5402e-03,  4.7708e-03],\n",
       "        [-3.0871e-03, -1.8956e-02, -1.8930e-02,  ...,  7.4045e-03,\n",
       "          2.0183e-02,  3.4077e-03],\n",
       "        [ 6.4257e-03, -1.7664e-02, -2.2067e-02,  ...,  6.7531e-04,\n",
       "          1.1108e-02,  3.7521e-03]], grad_fn=<EmbeddingBackward0>)"
      ]
     },
     "execution_count": 30,
     "metadata": {},
     "output_type": "execute_result"
    }
   ],
   "source": [
    "pos_embed = model.embeddings.position_embeddings(pos_ids)\n",
    "pos_embed"
   ]
  },
  {
   "cell_type": "code",
   "execution_count": 31,
   "id": "af00cb06-b395-4cf8-bfd4-73813bdc3389",
   "metadata": {},
   "outputs": [
    {
     "data": {
      "text/plain": [
       "torch.Size([7, 768])"
      ]
     },
     "execution_count": 31,
     "metadata": {},
     "output_type": "execute_result"
    }
   ],
   "source": [
    "pos_embed.shape"
   ]
  },
  {
   "cell_type": "code",
   "execution_count": 17,
   "id": "64ffc736-55a3-40c1-a29c-9af2924f9a90",
   "metadata": {},
   "outputs": [
    {
     "data": {
      "text/plain": [
       "{'input_ids': tensor([[ 101, 2651, 2003, 1037, 2204, 2154,  102]]), 'token_type_ids': tensor([[0, 0, 0, 0, 0, 0, 0]]), 'attention_mask': tensor([[1, 1, 1, 1, 1, 1, 1]])}"
      ]
     },
     "execution_count": 17,
     "metadata": {},
     "output_type": "execute_result"
    }
   ],
   "source": [
    "input"
   ]
  },
  {
   "cell_type": "code",
   "execution_count": 32,
   "id": "8d713731-4a47-4523-a796-e544b373d8c5",
   "metadata": {},
   "outputs": [
    {
     "data": {
      "text/plain": [
       "tensor([[[ 0.0316, -0.0411, -0.0564,  ...,  0.0021,  0.0044,  0.0219],\n",
       "         [-0.0611, -0.0058, -0.0727,  ...,  0.0223,  0.0151, -0.0228],\n",
       "         [-0.0469, -0.0156, -0.0336,  ...,  0.0117,  0.0135,  0.0109],\n",
       "         ...,\n",
       "         [-0.0040, -0.0088, -0.0415,  ..., -0.0550, -0.0801, -0.0911],\n",
       "         [-0.0312, -0.0068, -0.0157,  ...,  0.0065, -0.0105, -0.0498],\n",
       "         [-0.0077, -0.0166, -0.0123,  ..., -0.0310,  0.0124, -0.0064]]],\n",
       "       grad_fn=<AddBackward0>)"
      ]
     },
     "execution_count": 32,
     "metadata": {},
     "output_type": "execute_result"
    }
   ],
   "source": [
    "word_embed + token_type_embed + pos_embed.unsqueeze(0)"
   ]
  },
  {
   "cell_type": "code",
   "execution_count": null,
   "id": "8e42ca62-6c4b-4269-b40e-8b42e8ea4390",
   "metadata": {},
   "outputs": [],
   "source": []
  }
 ],
 "metadata": {
  "kernelspec": {
   "display_name": "Python 3 (ipykernel)",
   "language": "python",
   "name": "python3"
  },
  "language_info": {
   "codemirror_mode": {
    "name": "ipython",
    "version": 3
   },
   "file_extension": ".py",
   "mimetype": "text/x-python",
   "name": "python",
   "nbconvert_exporter": "python",
   "pygments_lexer": "ipython3",
   "version": "3.12.2"
  }
 },
 "nbformat": 4,
 "nbformat_minor": 5
}
