{
 "cells": [
  {
   "cell_type": "markdown",
   "id": "a875b7b1-42ad-48cb-8d70-dcb3d618f356",
   "metadata": {},
   "source": [
    "## torch.no_grad() vs. param.requires_grad == False\n",
    "- torch.no_grad() is a context manager used to prevent calculating gradient.\n",
    "  - Not store gradient at all,\n",
    "  - Likely use it to inference, not training.\n",
    "  - This doesn't change requires_grad.\n",
    "\n",
    "- requires_grad is to freeze part of model and train the rest,\n",
    "    - disable parts of network\n",
    "    - used more on layer or module"
   ]
  },
  {
   "cell_type": "code",
   "execution_count": 2,
   "id": "a15ad73e-779e-4ac0-99f4-9f468fc16d79",
   "metadata": {},
   "outputs": [],
   "source": [
    "from transformers import BertModel\n",
    "model_name = 'bert-base-uncased'\n",
    "bert = BertModel.from_pretrained(model_name)"
   ]
  },
  {
   "cell_type": "code",
   "execution_count": 3,
   "id": "958c124f-f262-4d03-b5a2-c3f40fad3faa",
   "metadata": {},
   "outputs": [],
   "source": [
    "def count_learnable_params(model):\n",
    "\n",
    "    total_learnable_params = 0\n",
    "    for name, params in model.named_parameters():\n",
    "        \n",
    "        if params.requires_grad:\n",
    "            total_learnable_params +=params.numel()\n",
    "            \n",
    "    return total_learnable_params\n",
    "    "
   ]
  },
  {
   "cell_type": "code",
   "execution_count": 4,
   "id": "aa9a35a0-a546-4fc6-899c-11a93edbbaf5",
   "metadata": {},
   "outputs": [
    {
     "data": {
      "text/plain": [
       "109482240"
      ]
     },
     "execution_count": 4,
     "metadata": {},
     "output_type": "execute_result"
    }
   ],
   "source": [
    "count_learnable_params(bert)"
   ]
  },
  {
   "cell_type": "code",
   "execution_count": 6,
   "id": "933d6884-9ba7-42e9-b74b-50d1a377c21a",
   "metadata": {},
   "outputs": [
    {
     "name": "stdout",
     "output_type": "stream",
     "text": [
      "109482240\n"
     ]
    }
   ],
   "source": [
    "import torch\n",
    "\n",
    "with torch.no_grad():\n",
    "    print(count_learnable_params(bert))"
   ]
  },
  {
   "cell_type": "code",
   "execution_count": 9,
   "id": "d9028cbb-b706-49e3-bd7e-2b75bb03f245",
   "metadata": {},
   "outputs": [
    {
     "data": {
      "text/plain": [
       "0"
      ]
     },
     "execution_count": 9,
     "metadata": {},
     "output_type": "execute_result"
    }
   ],
   "source": [
    "for name, params in bert.named_parameters():\n",
    "        \n",
    "        if params.requires_grad:\n",
    "            params.requires_grad = False\n",
    "\n",
    "count_learnable_params(bert)"
   ]
  },
  {
   "cell_type": "code",
   "execution_count": null,
   "id": "01cb2877-ce44-4dbd-9c35-bf010e26097d",
   "metadata": {},
   "outputs": [],
   "source": []
  }
 ],
 "metadata": {
  "kernelspec": {
   "display_name": "Python 3 (ipykernel)",
   "language": "python",
   "name": "python3"
  },
  "language_info": {
   "codemirror_mode": {
    "name": "ipython",
    "version": 3
   },
   "file_extension": ".py",
   "mimetype": "text/x-python",
   "name": "python",
   "nbconvert_exporter": "python",
   "pygments_lexer": "ipython3",
   "version": "3.12.2"
  }
 },
 "nbformat": 4,
 "nbformat_minor": 5
}
